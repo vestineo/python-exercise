{
 "cells": [
  {
   "cell_type": "markdown",
   "id": "9754acca-d904-4d1f-96f9-3bddd744b306",
   "metadata": {},
   "source": [
    "## If"
   ]
  },
  {
   "cell_type": "markdown",
   "id": "0fdfe4d3-4146-422b-9c80-a7326849f1f6",
   "metadata": {},
   "source": [
    "**1. Write a program that reads an integer from the user. Then your\n",
    "program should display a message indicating whether the integer is\n",
    "even or odd.**"
   ]
  },
  {
   "cell_type": "code",
   "execution_count": 1,
   "id": "2190cea9-59e4-438d-ac17-59ea3ab32f91",
   "metadata": {},
   "outputs": [
    {
     "name": "stdin",
     "output_type": "stream",
     "text": [
      "Enter an integer:  5\n"
     ]
    },
    {
     "name": "stdout",
     "output_type": "stream",
     "text": [
      "The integer is odd.\n"
     ]
    }
   ],
   "source": [
    "integer = int(input(\"Enter an integer: \"))\n",
    "\n",
    "if integer % 2 == 0:\n",
    "  print(\"The integer is even.\")\n",
    "else:\n",
    "  print(\"The integer is odd.\")\n"
   ]
  },
  {
   "cell_type": "markdown",
   "id": "d020cd5b-e2ec-47a1-b6ca-695499207ddb",
   "metadata": {},
   "source": [
    "**2. Write a program that implements the conversion from human years to\n",
    "dog years described in the previous paragraph. Ensure that your\n",
    "program works correctly for conversions of less than two human years\n",
    "and for conversions of two or more human years. Your program should\n",
    "display an appropriate error message if the user enters a negative\n",
    "number.**"
   ]
  },
  {
   "cell_type": "code",
   "execution_count": 2,
   "id": "5635686b-8f8c-4229-bc60-f0422e2f6386",
   "metadata": {},
   "outputs": [
    {
     "name": "stdin",
     "output_type": "stream",
     "text": [
      "Enter the number of human years:  45\n"
     ]
    },
    {
     "name": "stdout",
     "output_type": "stream",
     "text": [
      "The number of dog years is: 193\n"
     ]
    }
   ],
   "source": [
    "human_years = int(input(\"Enter the number of human years: \"))\n",
    "\n",
    "if human_years < 2:\n",
    "  dog_years = human_years * 10.5\n",
    "else:\n",
    "  dog_years = 21 + (human_years - 2) * 4\n",
    "\n",
    "print(f\"The number of dog years is: {dog_years}\")\n"
   ]
  },
  {
   "cell_type": "markdown",
   "id": "5e3af3a6-4607-4555-9634-3d244f6d51d7",
   "metadata": {},
   "source": [
    "**3. Create a program that reads a letter of the alphabet from the user. If the\n",
    "user enters a, e, i, o or u then your program should display a message\n",
    "indicating that the entered letter is a vowel. If the user enters y then\n",
    "your program should display a message indicating that sometimes y is a\n",
    "vowel, and sometimes y is a consonant. Otherwise your program should\n",
    "display a message indicating that the letter is a consonant.**"
   ]
  },
  {
   "cell_type": "code",
   "execution_count": 3,
   "id": "2e5d219d-6f0a-49c9-9d9d-98767d9f9696",
   "metadata": {},
   "outputs": [
    {
     "name": "stdin",
     "output_type": "stream",
     "text": [
      "Enter a letter of the alphabet:  t\n"
     ]
    },
    {
     "name": "stdout",
     "output_type": "stream",
     "text": [
      "The letter is a consonant.\n"
     ]
    }
   ],
   "source": [
    "letter = input(\"Enter a letter of the alphabet: \")\n",
    "\n",
    "if letter in [\"a\", \"e\", \"i\", \"o\", \"u\"]:\n",
    "  print(\"The letter is a vowel.\")\n",
    "elif letter == \"y\":\n",
    "  print(\"Sometimes y is a vowel, and sometimes y is a consonant.\")\n",
    "else:\n",
    "  print(\"The letter is a consonant.\")"
   ]
  },
  {
   "cell_type": "markdown",
   "id": "83b89f26-1d98-4c73-963c-c1ee267b80d5",
   "metadata": {},
   "source": [
    "**4. Write a program that determines the name of a shape from its number\n",
    "of sides. Read the number of sides from the user and then report the\n",
    "appropriate name as part of a meaningful message. Your program\n",
    "should support shapes with anywhere from 3 up to (and including) 10\n",
    "sides. If a number of sides outside of this range is entered then your\n",
    "program should display an appropriate error message.**"
   ]
  },
  {
   "cell_type": "code",
   "execution_count": 4,
   "id": "b84dcf73-be36-4828-9d00-f3a5af062005",
   "metadata": {},
   "outputs": [
    {
     "name": "stdin",
     "output_type": "stream",
     "text": [
      "Enter the number of sides of the shape:  5\n"
     ]
    },
    {
     "name": "stdout",
     "output_type": "stream",
     "text": [
      "The shape is a pentagon.\n"
     ]
    }
   ],
   "source": [
    "number_of_sides = int(input(\"Enter the number of sides of the shape: \"))\n",
    "\n",
    "if number_of_sides == 3:\n",
    "  print(\"The shape is a triangle.\")\n",
    "elif number_of_sides == 4:\n",
    "  print(\"The shape is a quadrilateral.\")\n",
    "elif number_of_sides == 5:\n",
    "  print(\"The shape is a pentagon.\")\n",
    "elif number_of_sides == 6:\n",
    "  print(\"The shape is a hexagon.\")\n",
    "elif number_of_sides == 7:\n",
    "  print(\"The shape is a heptagon.\")\n",
    "elif number_of_sides == 8:\n",
    "  print(\"The shape is an octagon.\")\n",
    "elif number_of_sides == 9:\n",
    "  print(\"The shape is a nonagon.\")\n",
    "elif number_of_sides == 10:\n",
    "  print(\"The shape is a decagon.\")\n",
    "else:\n",
    "  print(\"The number of sides must be between 3 and 10, inclusive.\")\n"
   ]
  },
  {
   "cell_type": "markdown",
   "id": "89a7603a-f721-4db7-b5ab-46ea05cae80e",
   "metadata": {},
   "source": [
    "**5. The length of a month varies from 28 to 31 days. In this exercise you\n",
    "will create a program that reads the name of a month from the user as a\n",
    "string. Then your program should display the number of days in that\n",
    "month. Display “28 or 29 days” for February so that leap years are\n",
    "addressed.**"
   ]
  },
  {
   "cell_type": "code",
   "execution_count": 5,
   "id": "75400f6d-ba9e-4ed7-9d12-3d36188efa51",
   "metadata": {},
   "outputs": [
    {
     "name": "stdin",
     "output_type": "stream",
     "text": [
      "Enter the name of a month:  jan\n"
     ]
    },
    {
     "name": "stdout",
     "output_type": "stream",
     "text": [
      "Invalid month.\n"
     ]
    }
   ],
   "source": [
    "month = input(\"Enter the name of a month: \")\n",
    "\n",
    "if month in [\"January\", \"March\", \"May\", \"July\", \"August\", \"October\", \"December\"]:\n",
    "  print(\"The month has 31 days.\")\n",
    "elif month in [\"April\", \"June\", \"September\", \"November\"]:\n",
    "  print(\"The month has 30 days.\")\n",
    "elif month == \"February\":\n",
    "  print(\"The month has 28 or 29 days, depending on whether it is a leap year.\")\n",
    "else:\n",
    "  print(\"Invalid month.\")\n"
   ]
  },
  {
   "cell_type": "markdown",
   "id": "355a380c-3eec-4811-ab1e-dcbbccf2f669",
   "metadata": {},
   "source": [
    "**6.Write a program that reads a sound level in decibels from the user.**"
   ]
  },
  {
   "cell_type": "code",
   "execution_count": 6,
   "id": "8dafe4f2-e1f8-49b8-9180-c4f0c89c4552",
   "metadata": {},
   "outputs": [
    {
     "name": "stdin",
     "output_type": "stream",
     "text": [
      "Enter a sound level in decibels:  120\n"
     ]
    },
    {
     "name": "stdout",
     "output_type": "stream",
     "text": [
      "The sound level is between a gas lawnmower and a jackhammer.\n"
     ]
    }
   ],
   "source": [
    "decibel_level = float(input(\"Enter a sound level in decibels: \"))\n",
    "\n",
    "NOISES = {\n",
    "    \"Jackhammer\": 130,\n",
    "    \"Gas lawnmower\": 106,\n",
    "    \"Alarm clock\": 70,\n",
    "    \"Quiet room\": 40,\n",
    "}\n",
    "\n",
    "if decibel_level >= NOISES[\"Jackhammer\"]:\n",
    "  print(\"The sound level is as loud as a jackhammer.\")\n",
    "elif decibel_level >= NOISES[\"Gas lawnmower\"]:\n",
    "  print(\"The sound level is between a gas lawnmower and a jackhammer.\")\n",
    "elif decibel_level >= NOISES[\"Alarm clock\"]:\n",
    "  print(\"The sound level is between an alarm clock and a gas lawnmower.\")\n",
    "elif decibel_level >= NOISES[\"Quiet room\"]:\n",
    "  print(\"The sound level is between a quiet room and an alarm clock.\")\n",
    "else:\n",
    "  print(\"The sound level is quieter than a quiet room.\")\n"
   ]
  },
  {
   "cell_type": "markdown",
   "id": "791bd0e1-ca72-4d25-987a-0d36b5d118f0",
   "metadata": {},
   "source": [
    "**7. writing a program that reads the name of a note from the user and\n",
    "displays the note’s frequency.**"
   ]
  },
  {
   "cell_type": "code",
   "execution_count": 12,
   "id": "e861c31f-824a-47b4-93f9-37b303143a8b",
   "metadata": {},
   "outputs": [
    {
     "name": "stdin",
     "output_type": "stream",
     "text": [
      "Enter a note:  F5\n"
     ]
    },
    {
     "name": "stdout",
     "output_type": "stream",
     "text": [
      "The frequency of F in octave 5 is 698.46 Hz.\n"
     ]
    }
   ],
   "source": [
    "NOTES = {\n",
    "    \"C\": 261.63,\n",
    "    \"D\": 293.66,\n",
    "    \"E\": 329.63,\n",
    "    \"F\": 349.23,\n",
    "    \"G\": 392.00,\n",
    "    \"A\": 440.00,\n",
    "    \"B\": 493.88,\n",
    "}\n",
    "\n",
    "note = input(\"Enter a note: \")\n",
    "octave = int(note[-1])\n",
    "note = note[:-1]\n",
    "\n",
    "if note in NOTES and 0 <= octave <= 8:\n",
    "  frequency = NOTES[note] * 2 ** (octave - 4)\n",
    "  print(\"The frequency of\", note, \"in octave\", octave, \"is\", frequency, \"Hz.\")\n",
    "else:\n",
    "  print(\"Invalid note.\")"
   ]
  },
  {
   "cell_type": "markdown",
   "id": "a712013a-98be-4061-865e-10e8543d552e",
   "metadata": {},
   "source": [
    "**8. In the previous question you converted from note name to frequency.\n",
    "In this question you will write a program that reverses that process.\n",
    "Begin by reading a frequency from the user. If the frequency is within\n",
    "one Hertz of a value listed in the table in the previous question then\n",
    "report the name of the note. Otherwise report that the frequency does\n",
    "not correspond to a known note. In this exercise you only need to\n",
    "consider the notes listed in the table. There is no need to consider notes\n",
    "from other octaves.**"
   ]
  },
  {
   "cell_type": "code",
   "execution_count": 13,
   "id": "b6e44d6b-58e8-4ba6-a801-0d71b2915f14",
   "metadata": {},
   "outputs": [
    {
     "name": "stdin",
     "output_type": "stream",
     "text": [
      "Enter a frequency in Hz:  675\n"
     ]
    },
    {
     "name": "stdout",
     "output_type": "stream",
     "text": [
      "The frequency 675.0 Hz does not correspond to a known note.\n"
     ]
    }
   ],
   "source": [
    "NOTES = {\n",
    "    \"C4\": 261.63,\n",
    "    \"D4\": 293.66,\n",
    "    \"E4\": 329.63,\n",
    "    \"F4\": 349.23,\n",
    "    \"G4\": 392.00,\n",
    "    \"A4\": 440.00,\n",
    "    \"B4\": 493.88,\n",
    "}\n",
    "\n",
    "frequency = float(input(\"Enter a frequency in Hz: \"))\n",
    "\n",
    "closest_note = None\n",
    "closest_note_frequency = 0\n",
    "\n",
    "for note, note_frequency in NOTES.items():\n",
    "  if abs(frequency - note_frequency) < 1:\n",
    "    closest_note = note\n",
    "    closest_note_frequency = note_frequency\n",
    "    break\n",
    "\n",
    "if closest_note is not None:\n",
    "  print(\"The closest note to\", frequency, \"Hz is\", closest_note, \"at\", closest_note_frequency, \"Hz.\")\n",
    "else:\n",
    "  print(\"The frequency\", frequency, \"Hz does not correspond to a known note.\")\n"
   ]
  },
  {
   "cell_type": "markdown",
   "id": "70f583c5-87e9-4650-9426-cc4dea31b44a",
   "metadata": {},
   "source": [
    "**9.Write a program that reads a wavelength from the user and reports its\n",
    "color.**"
   ]
  },
  {
   "cell_type": "code",
   "execution_count": 15,
   "id": "6584aa0b-4e28-4889-be2a-1820793232a7",
   "metadata": {},
   "outputs": [
    {
     "name": "stdin",
     "output_type": "stream",
     "text": [
      "Enter a wavelength in nanometers:  580\n"
     ]
    },
    {
     "name": "stdout",
     "output_type": "stream",
     "text": [
      "The color of light with a wavelength of 580.0 nm is Yellow .\n"
     ]
    }
   ],
   "source": [
    "COLORS = {\n",
    "    \"Violet\": (380, 450),\n",
    "    \"Blue\": (450, 495),\n",
    "    \"Green\": (495, 570),\n",
    "    \"Yellow\": (570, 590),\n",
    "    \"Orange\": (590, 620),\n",
    "    \"Red\": (620, 750),\n",
    "}\n",
    "\n",
    "wavelength = float(input(\"Enter a wavelength in nanometers: \"))\n",
    "\n",
    "color = None\n",
    "for color, wavelength_range in COLORS.items():\n",
    "  if wavelength_range[0] <= wavelength <= wavelength_range[1]:\n",
    "    color = color\n",
    "    break\n",
    "\n",
    "if color is not None:\n",
    "  print(\"The color of light with a wavelength of\", wavelength, \"nm is\", color, \".\")\n",
    "else:\n",
    "  print(\"The wavelength\", wavelength, \"nm is outside of the visible spectrum.\")\n"
   ]
  },
  {
   "cell_type": "markdown",
   "id": "fc548cd9-c107-450d-aa95-b520c8c9c85d",
   "metadata": {},
   "source": [
    "## List"
   ]
  },
  {
   "cell_type": "markdown",
   "id": "24a08152-5630-4139-97b8-e52e5248ab5c",
   "metadata": {},
   "source": [
    "**1. Write a main program that demonstrates your function. Your function\n",
    "should read a list of numbers from the user and remove the two largest and two smallest values from it.**\n"
   ]
  },
  {
   "cell_type": "code",
   "execution_count": 21,
   "id": "42b95bd5-4907-4fb2-b5fa-30c067961e55",
   "metadata": {},
   "outputs": [],
   "source": [
    "def remove_outliers(list_of_values, n):\n",
    "  new_list = list_of_values.copy()\n",
    "  new_list.sort()\n",
    "  for i in range(n):\n",
    "    new_list.pop()\n",
    "    new_list.pop(0)\n",
    "  return new_list"
   ]
  },
  {
   "cell_type": "code",
   "execution_count": 23,
   "id": "aaa348b6-58bd-4dd7-b9cb-8aff599b6b63",
   "metadata": {},
   "outputs": [
    {
     "name": "stdin",
     "output_type": "stream",
     "text": [
      "Enter a number:  3\n",
      "Enter a number:  4\n",
      "Enter a number:  5\n",
      "Enter a number:  6\n",
      "Enter a number:  7\n",
      "Enter a number:  8\n",
      "Enter a number:  7\n",
      "Enter a number:  6\n",
      "Enter a number:  4\n",
      "Enter a number:  \n"
     ]
    },
    {
     "name": "stdout",
     "output_type": "stream",
     "text": [
      "The list with the outliers removed: [4.0, 5.0, 6.0, 6.0, 7.0]\n",
      "The original list: [3.0, 4.0, 5.0, 6.0, 7.0, 8.0, 7.0, 6.0, 4.0]\n"
     ]
    }
   ],
   "source": [
    "def main():\n",
    "  list_of_values = []\n",
    "  while True:\n",
    "    number = input(\"Enter a number: \")\n",
    "    if number == \"\":\n",
    "      break\n",
    "    list_of_values.append(float(number))\n",
    "\n",
    "  if len(list_of_values) < 4:\n",
    "    print(\"Error: Please enter at least 4 values.\")\n",
    "    return\n",
    "\n",
    "  list_of_values_without_outliers = remove_outliers(list_of_values, 2)\n",
    "  print(\"The list with the outliers removed:\", list_of_values_without_outliers)\n",
    "  print(\"The original list:\", list_of_values)\n",
    "\n",
    "main()"
   ]
  },
  {
   "cell_type": "markdown",
   "id": "a4ad7931-9c6d-4468-867a-e432e1c02afb",
   "metadata": {},
   "source": [
    "**2. writing a function that takes a\n",
    "string of text as its only parameter. Your function should return a list of\n",
    "the words in the string with the punctuation marks at the edges of the\n",
    "words removed.**"
   ]
  },
  {
   "cell_type": "code",
   "execution_count": 25,
   "id": "64cddb2b-5f49-4694-8301-31f07825215b",
   "metadata": {},
   "outputs": [
    {
     "name": "stdin",
     "output_type": "stream",
     "text": [
      "Enter a string:  Examples of contractions include: don’t, isn’t, and wouldn’t.\n"
     ]
    },
    {
     "name": "stdout",
     "output_type": "stream",
     "text": [
      "The words in the string are: ['Examples', 'of', 'contractions', 'include', 'don’t', 'isn’t', 'and', 'wouldn’t']\n"
     ]
    }
   ],
   "source": [
    "def remove_punctuation(string):\n",
    "  punctuation_marks = [\",\", \".\", \"?\", \"-\", \"'\", \"!\", \":\", \";\"]\n",
    "  words = string.split()\n",
    "  for i in range(len(words)):\n",
    "    for punctuation_mark in punctuation_marks:\n",
    "      if words[i].startswith(punctuation_mark):\n",
    "        words[i] = words[i][1:]\n",
    "      if words[i].endswith(punctuation_mark):\n",
    "        words[i] = words[i][:-1]\n",
    "  return words\n",
    "\n",
    "def main():\n",
    "  string = input(\"Enter a string: \")\n",
    "  words = remove_punctuation(string)\n",
    "  print(\"The words in the string are:\", words)\n",
    "\n",
    "main()"
   ]
  },
  {
   "cell_type": "code",
   "execution_count": null,
   "id": "663151cd-6110-480d-a9de-2c023ddd57da",
   "metadata": {},
   "outputs": [],
   "source": []
  }
 ],
 "metadata": {
  "kernelspec": {
   "display_name": "Python 3 (ipykernel)",
   "language": "python",
   "name": "python3"
  },
  "language_info": {
   "codemirror_mode": {
    "name": "ipython",
    "version": 3
   },
   "file_extension": ".py",
   "mimetype": "text/x-python",
   "name": "python",
   "nbconvert_exporter": "python",
   "pygments_lexer": "ipython3",
   "version": "3.10.8"
  }
 },
 "nbformat": 4,
 "nbformat_minor": 5
}
